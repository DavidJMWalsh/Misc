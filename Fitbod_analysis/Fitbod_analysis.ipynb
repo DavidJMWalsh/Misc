{
 "cells": [
  {
   "cell_type": "markdown",
   "metadata": {},
   "source": [
    "# <center>How different are short-term vs long-term users of Fitbod?"
   ]
  },
  {
   "cell_type": "markdown",
   "metadata": {},
   "source": [
    "In this analysis, we look at 22 Fitbod users. We assume that we have all of the workout data for those users (I'll explain why that assumption looks reasonable). Hence the gap between their first and last recorded workout can be taken as their total length of time using the app.\n",
    "\n",
    "We investigate whether people who have used the app for a long time differ from those that have not. Do they work out a different number times per week? Do they attempt different exercises when they work out?\n",
    "\n",
    "There are many reasons why short-term and long-term users might differ:\n",
    "- Users may get more / less ambitious with their workout routine over time.\n",
    "- Irregular users may churn, leaving only those who work out the most frequently.\n",
    "- The product may have recommended different exercises when the long-term users logged their first workouts vs what it recommends now.\n",
    "\n",
    "Note: Differentiating between these reasons is beyond the scope of this analysis. We are just trying to measure whether differences exist."
   ]
  },
  {
   "cell_type": "code",
   "execution_count": 49,
   "metadata": {},
   "outputs": [],
   "source": [
    "import pandas as pd\n",
    "from matplotlib import pyplot as plt\n",
    "from datetime import datetime, timedelta\n",
    "import numpy as np\n",
    "import statsmodels.api as sm\n",
    "from patsy import dmatrices"
   ]
  },
  {
   "cell_type": "code",
   "execution_count": 2,
   "metadata": {},
   "outputs": [
    {
     "data": {
      "text/html": [
       "<div>\n",
       "<style scoped>\n",
       "    .dataframe tbody tr th:only-of-type {\n",
       "        vertical-align: middle;\n",
       "    }\n",
       "\n",
       "    .dataframe tbody tr th {\n",
       "        vertical-align: top;\n",
       "    }\n",
       "\n",
       "    .dataframe thead th {\n",
       "        text-align: right;\n",
       "    }\n",
       "</style>\n",
       "<table border=\"1\" class=\"dataframe\">\n",
       "  <thead>\n",
       "    <tr style=\"text-align: right;\">\n",
       "      <th></th>\n",
       "      <th>singleSetId</th>\n",
       "      <th>weight</th>\n",
       "      <th>reps</th>\n",
       "      <th>distance</th>\n",
       "      <th>duration</th>\n",
       "      <th>elevationGain</th>\n",
       "      <th>setNumber</th>\n",
       "      <th>exerciseSetParseId</th>\n",
       "      <th>exerciseName</th>\n",
       "      <th>workoutId</th>\n",
       "      <th>workoutDate</th>\n",
       "      <th>fake_user_id</th>\n",
       "    </tr>\n",
       "  </thead>\n",
       "  <tbody>\n",
       "    <tr>\n",
       "      <th>0</th>\n",
       "      <td>6wiXICPH68</td>\n",
       "      <td>0.000000</td>\n",
       "      <td>0.0</td>\n",
       "      <td>3061.000000</td>\n",
       "      <td>1269.0</td>\n",
       "      <td>23.700001</td>\n",
       "      <td>1</td>\n",
       "      <td>1p0URAWpXV</td>\n",
       "      <td>Running</td>\n",
       "      <td>ZsCb953QgI</td>\n",
       "      <td>2017-10-23</td>\n",
       "      <td>fake_id_280</td>\n",
       "    </tr>\n",
       "    <tr>\n",
       "      <th>1</th>\n",
       "      <td>YOfuh0bw2H</td>\n",
       "      <td>0.000000</td>\n",
       "      <td>0.0</td>\n",
       "      <td>3838.100098</td>\n",
       "      <td>1511.0</td>\n",
       "      <td>25.500000</td>\n",
       "      <td>1</td>\n",
       "      <td>VBNi6tOu3W</td>\n",
       "      <td>Running</td>\n",
       "      <td>n1T0dwNa15</td>\n",
       "      <td>2017-10-31</td>\n",
       "      <td>fake_id_280</td>\n",
       "    </tr>\n",
       "    <tr>\n",
       "      <th>2</th>\n",
       "      <td>7dhWRqsaCm</td>\n",
       "      <td>0.000000</td>\n",
       "      <td>0.0</td>\n",
       "      <td>4184.299805</td>\n",
       "      <td>600.0</td>\n",
       "      <td>0.000000</td>\n",
       "      <td>1</td>\n",
       "      <td>ygE4EASEmA</td>\n",
       "      <td>Cycling</td>\n",
       "      <td>ivd4qa8Syj</td>\n",
       "      <td>2017-11-01</td>\n",
       "      <td>fake_id_280</td>\n",
       "    </tr>\n",
       "    <tr>\n",
       "      <th>3</th>\n",
       "      <td>3pJr2AFpgO</td>\n",
       "      <td>127.000000</td>\n",
       "      <td>10.0</td>\n",
       "      <td>NaN</td>\n",
       "      <td>NaN</td>\n",
       "      <td>NaN</td>\n",
       "      <td>4</td>\n",
       "      <td>tYUWOKhCz1</td>\n",
       "      <td>Scissor Kick</td>\n",
       "      <td>WYIrwicBf6</td>\n",
       "      <td>2017-07-28</td>\n",
       "      <td>fake_id_281</td>\n",
       "    </tr>\n",
       "    <tr>\n",
       "      <th>4</th>\n",
       "      <td>P1TJ2sgKYQ</td>\n",
       "      <td>127.000000</td>\n",
       "      <td>10.0</td>\n",
       "      <td>NaN</td>\n",
       "      <td>NaN</td>\n",
       "      <td>NaN</td>\n",
       "      <td>4</td>\n",
       "      <td>DdIBK8Yquk</td>\n",
       "      <td>Side Bridge</td>\n",
       "      <td>fkRBieE0Pw</td>\n",
       "      <td>2017-07-21</td>\n",
       "      <td>fake_id_281</td>\n",
       "    </tr>\n",
       "    <tr>\n",
       "      <th>...</th>\n",
       "      <td>...</td>\n",
       "      <td>...</td>\n",
       "      <td>...</td>\n",
       "      <td>...</td>\n",
       "      <td>...</td>\n",
       "      <td>...</td>\n",
       "      <td>...</td>\n",
       "      <td>...</td>\n",
       "      <td>...</td>\n",
       "      <td>...</td>\n",
       "      <td>...</td>\n",
       "      <td>...</td>\n",
       "    </tr>\n",
       "    <tr>\n",
       "      <th>38208</th>\n",
       "      <td>G5I4EcuiEp</td>\n",
       "      <td>0.000000</td>\n",
       "      <td>7.0</td>\n",
       "      <td>NaN</td>\n",
       "      <td>NaN</td>\n",
       "      <td>NaN</td>\n",
       "      <td>2</td>\n",
       "      <td>LHdUCH8138</td>\n",
       "      <td>Pull Up</td>\n",
       "      <td>naC8OgOmh7</td>\n",
       "      <td>2017-09-29</td>\n",
       "      <td>fake_id_280</td>\n",
       "    </tr>\n",
       "    <tr>\n",
       "      <th>38209</th>\n",
       "      <td>5Bqrg9FoRs</td>\n",
       "      <td>0.000000</td>\n",
       "      <td>9.0</td>\n",
       "      <td>0.000000</td>\n",
       "      <td>0.0</td>\n",
       "      <td>0.000000</td>\n",
       "      <td>1</td>\n",
       "      <td>P4seuioY7A</td>\n",
       "      <td>Pull Up</td>\n",
       "      <td>eG8chtXuLA</td>\n",
       "      <td>2017-11-14</td>\n",
       "      <td>fake_id_280</td>\n",
       "    </tr>\n",
       "    <tr>\n",
       "      <th>38210</th>\n",
       "      <td>RYM1xuFNhP</td>\n",
       "      <td>0.000000</td>\n",
       "      <td>5.0</td>\n",
       "      <td>0.000000</td>\n",
       "      <td>0.0</td>\n",
       "      <td>0.000000</td>\n",
       "      <td>2</td>\n",
       "      <td>DXABiF6Bo0</td>\n",
       "      <td>Pull Up</td>\n",
       "      <td>JEi0G1o9Cv</td>\n",
       "      <td>2019-02-02</td>\n",
       "      <td>fake_id_291</td>\n",
       "    </tr>\n",
       "    <tr>\n",
       "      <th>38211</th>\n",
       "      <td>jaxWHiNJ0S</td>\n",
       "      <td>20.411681</td>\n",
       "      <td>6.0</td>\n",
       "      <td>0.000000</td>\n",
       "      <td>0.0</td>\n",
       "      <td>0.000000</td>\n",
       "      <td>1</td>\n",
       "      <td>7ohDP6CF6j</td>\n",
       "      <td>Barbell Incline Bench Press</td>\n",
       "      <td>qspicKEXoO</td>\n",
       "      <td>2018-09-12</td>\n",
       "      <td>fake_id_297</td>\n",
       "    </tr>\n",
       "    <tr>\n",
       "      <th>38212</th>\n",
       "      <td>UX8WIR9Nci</td>\n",
       "      <td>43.091326</td>\n",
       "      <td>10.0</td>\n",
       "      <td>0.000000</td>\n",
       "      <td>0.0</td>\n",
       "      <td>0.000000</td>\n",
       "      <td>4</td>\n",
       "      <td>DZneXCEXBu</td>\n",
       "      <td>Barbell Incline Bench Press</td>\n",
       "      <td>G2eLuo08xc</td>\n",
       "      <td>2019-02-16</td>\n",
       "      <td>fake_id_284</td>\n",
       "    </tr>\n",
       "  </tbody>\n",
       "</table>\n",
       "<p>38213 rows × 12 columns</p>\n",
       "</div>"
      ],
      "text/plain": [
       "      singleSetId      weight  reps     distance  duration  elevationGain  \\\n",
       "0      6wiXICPH68    0.000000   0.0  3061.000000    1269.0      23.700001   \n",
       "1      YOfuh0bw2H    0.000000   0.0  3838.100098    1511.0      25.500000   \n",
       "2      7dhWRqsaCm    0.000000   0.0  4184.299805     600.0       0.000000   \n",
       "3      3pJr2AFpgO  127.000000  10.0          NaN       NaN            NaN   \n",
       "4      P1TJ2sgKYQ  127.000000  10.0          NaN       NaN            NaN   \n",
       "...           ...         ...   ...          ...       ...            ...   \n",
       "38208  G5I4EcuiEp    0.000000   7.0          NaN       NaN            NaN   \n",
       "38209  5Bqrg9FoRs    0.000000   9.0     0.000000       0.0       0.000000   \n",
       "38210  RYM1xuFNhP    0.000000   5.0     0.000000       0.0       0.000000   \n",
       "38211  jaxWHiNJ0S   20.411681   6.0     0.000000       0.0       0.000000   \n",
       "38212  UX8WIR9Nci   43.091326  10.0     0.000000       0.0       0.000000   \n",
       "\n",
       "       setNumber exerciseSetParseId                 exerciseName   workoutId  \\\n",
       "0              1         1p0URAWpXV                      Running  ZsCb953QgI   \n",
       "1              1         VBNi6tOu3W                      Running  n1T0dwNa15   \n",
       "2              1         ygE4EASEmA                      Cycling  ivd4qa8Syj   \n",
       "3              4         tYUWOKhCz1                 Scissor Kick  WYIrwicBf6   \n",
       "4              4         DdIBK8Yquk                  Side Bridge  fkRBieE0Pw   \n",
       "...          ...                ...                          ...         ...   \n",
       "38208          2         LHdUCH8138                      Pull Up  naC8OgOmh7   \n",
       "38209          1         P4seuioY7A                      Pull Up  eG8chtXuLA   \n",
       "38210          2         DXABiF6Bo0                      Pull Up  JEi0G1o9Cv   \n",
       "38211          1         7ohDP6CF6j  Barbell Incline Bench Press  qspicKEXoO   \n",
       "38212          4         DZneXCEXBu  Barbell Incline Bench Press  G2eLuo08xc   \n",
       "\n",
       "      workoutDate fake_user_id  \n",
       "0      2017-10-23  fake_id_280  \n",
       "1      2017-10-31  fake_id_280  \n",
       "2      2017-11-01  fake_id_280  \n",
       "3      2017-07-28  fake_id_281  \n",
       "4      2017-07-21  fake_id_281  \n",
       "...           ...          ...  \n",
       "38208  2017-09-29  fake_id_280  \n",
       "38209  2017-11-14  fake_id_280  \n",
       "38210  2019-02-02  fake_id_291  \n",
       "38211  2018-09-12  fake_id_297  \n",
       "38212  2019-02-16  fake_id_284  \n",
       "\n",
       "[38213 rows x 12 columns]"
      ]
     },
     "execution_count": 2,
     "metadata": {},
     "output_type": "execute_result"
    }
   ],
   "source": [
    "dataset = pd.read_csv(\"fitbod_DWALSH_20191114-114442.csv\")\n",
    "dataset"
   ]
  },
  {
   "cell_type": "markdown",
   "metadata": {},
   "source": [
    "## How large is this data set?"
   ]
  },
  {
   "cell_type": "markdown",
   "metadata": {},
   "source": [
    "22 users."
   ]
  },
  {
   "cell_type": "code",
   "execution_count": 6,
   "metadata": {},
   "outputs": [
    {
     "data": {
      "text/plain": [
       "22"
      ]
     },
     "execution_count": 6,
     "metadata": {},
     "output_type": "execute_result"
    }
   ],
   "source": [
    "n_users = len(dataset.fake_user_id.unique())\n",
    "n_users"
   ]
  },
  {
   "cell_type": "markdown",
   "metadata": {},
   "source": [
    "We have nearly 100 workouts per user."
   ]
  },
  {
   "cell_type": "code",
   "execution_count": 7,
   "metadata": {},
   "outputs": [
    {
     "data": {
      "text/plain": [
       "93.95454545454545"
      ]
     },
     "execution_count": 7,
     "metadata": {},
     "output_type": "execute_result"
    }
   ],
   "source": [
    "n_workouts = len(dataset.workoutId.unique())\n",
    "n_workouts/n_users"
   ]
  },
  {
   "cell_type": "markdown",
   "metadata": {},
   "source": [
    "For each user, we have 30 weeks of data on average."
   ]
  },
  {
   "cell_type": "code",
   "execution_count": 60,
   "metadata": {
    "scrolled": true
   },
   "outputs": [
    {
     "data": {
      "text/html": [
       "<div>\n",
       "<style scoped>\n",
       "    .dataframe tbody tr th:only-of-type {\n",
       "        vertical-align: middle;\n",
       "    }\n",
       "\n",
       "    .dataframe tbody tr th {\n",
       "        vertical-align: top;\n",
       "    }\n",
       "\n",
       "    .dataframe thead th {\n",
       "        text-align: right;\n",
       "    }\n",
       "</style>\n",
       "<table border=\"1\" class=\"dataframe\">\n",
       "  <thead>\n",
       "    <tr style=\"text-align: right;\">\n",
       "      <th></th>\n",
       "      <th>fake_user_id</th>\n",
       "      <th>days_on_fitbod</th>\n",
       "    </tr>\n",
       "  </thead>\n",
       "  <tbody>\n",
       "    <tr>\n",
       "      <th>0</th>\n",
       "      <td>fake_id_280</td>\n",
       "      <td>274.0</td>\n",
       "    </tr>\n",
       "    <tr>\n",
       "      <th>1</th>\n",
       "      <td>fake_id_281</td>\n",
       "      <td>106.0</td>\n",
       "    </tr>\n",
       "    <tr>\n",
       "      <th>2</th>\n",
       "      <td>fake_id_282</td>\n",
       "      <td>5.0</td>\n",
       "    </tr>\n",
       "    <tr>\n",
       "      <th>3</th>\n",
       "      <td>fake_id_283</td>\n",
       "      <td>443.0</td>\n",
       "    </tr>\n",
       "    <tr>\n",
       "      <th>4</th>\n",
       "      <td>fake_id_284</td>\n",
       "      <td>364.0</td>\n",
       "    </tr>\n",
       "  </tbody>\n",
       "</table>\n",
       "</div>"
      ],
      "text/plain": [
       "  fake_user_id  days_on_fitbod\n",
       "0  fake_id_280           274.0\n",
       "1  fake_id_281           106.0\n",
       "2  fake_id_282             5.0\n",
       "3  fake_id_283           443.0\n",
       "4  fake_id_284           364.0"
      ]
     },
     "execution_count": 60,
     "metadata": {},
     "output_type": "execute_result"
    }
   ],
   "source": [
    "def get_day_range(series):\n",
    "    \n",
    "    ## This function takes a pandas series of dates (saved as str)\n",
    "    ## & computes the number of days between the first and last date\n",
    "    \n",
    "    all_times = series.apply(lambda x : datetime.strptime(x, '%Y-%m-%d'))\n",
    "    time_range = all_times.max() - all_times.min()\n",
    "    return time_range/timedelta(days = 1)\n",
    "\n",
    "timespan_by_user_df = dataset.groupby(\"fake_user_id\").workoutDate.apply(get_day_range)\n",
    "timespan_by_user_df.name = \"days_on_fitbod\"\n",
    "timespan_by_user_df = timespan_by_user_df.reset_index()\n",
    "timespan_by_user_df.head()"
   ]
  },
  {
   "cell_type": "code",
   "execution_count": 61,
   "metadata": {},
   "outputs": [
    {
     "data": {
      "text/plain": [
       "30.883116883116884"
      ]
     },
     "execution_count": 61,
     "metadata": {},
     "output_type": "execute_result"
    }
   ],
   "source": [
    "mean_days_per_user = timespan_by_user_df.days_on_fitbod.mean()\n",
    "\n",
    "# divide by 7 to get average number of weeks\n",
    "mean_days_per_user/7.0"
   ]
  },
  {
   "cell_type": "markdown",
   "metadata": {},
   "source": [
    "Note: 100 workouts over 30 weeks equals roughly one workout every other day. I doubt the average customer works out much more than that, so we can assume that we have all the workout data for each user in our sample."
   ]
  },
  {
   "cell_type": "markdown",
   "metadata": {},
   "source": [
    "The workouts contain nearly 20 sets on average."
   ]
  },
  {
   "cell_type": "code",
   "execution_count": 19,
   "metadata": {},
   "outputs": [
    {
     "data": {
      "text/plain": [
       "18.462022254475084"
      ]
     },
     "execution_count": 19,
     "metadata": {},
     "output_type": "execute_result"
    }
   ],
   "source": [
    "n_sets = len(dataset.singleSetId.unique())\n",
    "n_sets/n_workouts"
   ]
  },
  {
   "cell_type": "markdown",
   "metadata": {},
   "source": [
    "Note: n_sets is slightly less than the number of rows in the dataset. Below is an example of set ID that corresponds to 2 different workouts..."
   ]
  },
  {
   "cell_type": "code",
   "execution_count": 22,
   "metadata": {},
   "outputs": [
    {
     "data": {
      "text/plain": [
       "VH0SyaUzK6    2\n",
       "B1MkgGCS9a    2\n",
       "icHolOb5tb    2\n",
       "BKuF5kBwSO    2\n",
       "I6hS79oipA    2\n",
       "             ..\n",
       "zIQVpG9NVE    1\n",
       "lYDaEovdUH    1\n",
       "r1SzJPmwIn    1\n",
       "MC2UD3XPNU    1\n",
       "T7IDiCAWQv    1\n",
       "Name: singleSetId, Length: 38161, dtype: int64"
      ]
     },
     "execution_count": 22,
     "metadata": {},
     "output_type": "execute_result"
    }
   ],
   "source": [
    "dataset.singleSetId.value_counts()"
   ]
  },
  {
   "cell_type": "code",
   "execution_count": 25,
   "metadata": {
    "scrolled": true
   },
   "outputs": [
    {
     "data": {
      "text/html": [
       "<div>\n",
       "<style scoped>\n",
       "    .dataframe tbody tr th:only-of-type {\n",
       "        vertical-align: middle;\n",
       "    }\n",
       "\n",
       "    .dataframe tbody tr th {\n",
       "        vertical-align: top;\n",
       "    }\n",
       "\n",
       "    .dataframe thead th {\n",
       "        text-align: right;\n",
       "    }\n",
       "</style>\n",
       "<table border=\"1\" class=\"dataframe\">\n",
       "  <thead>\n",
       "    <tr style=\"text-align: right;\">\n",
       "      <th></th>\n",
       "      <th>singleSetId</th>\n",
       "      <th>weight</th>\n",
       "      <th>reps</th>\n",
       "      <th>distance</th>\n",
       "      <th>duration</th>\n",
       "      <th>elevationGain</th>\n",
       "      <th>setNumber</th>\n",
       "      <th>exerciseSetParseId</th>\n",
       "      <th>exerciseName</th>\n",
       "      <th>workoutId</th>\n",
       "      <th>workoutDate</th>\n",
       "      <th>fake_user_id</th>\n",
       "    </tr>\n",
       "  </thead>\n",
       "  <tbody>\n",
       "    <tr>\n",
       "      <th>17238</th>\n",
       "      <td>VH0SyaUzK6</td>\n",
       "      <td>14.0</td>\n",
       "      <td>8.0</td>\n",
       "      <td>0.0</td>\n",
       "      <td>0.0</td>\n",
       "      <td>0.0</td>\n",
       "      <td>4</td>\n",
       "      <td>z7H89XkfTA</td>\n",
       "      <td>Skullcrusher</td>\n",
       "      <td>WK2u0Rvct6</td>\n",
       "      <td>2019-07-16</td>\n",
       "      <td>fake_id_291</td>\n",
       "    </tr>\n",
       "    <tr>\n",
       "      <th>33529</th>\n",
       "      <td>VH0SyaUzK6</td>\n",
       "      <td>14.0</td>\n",
       "      <td>8.0</td>\n",
       "      <td>0.0</td>\n",
       "      <td>0.0</td>\n",
       "      <td>0.0</td>\n",
       "      <td>4</td>\n",
       "      <td>z7H89XkfTA</td>\n",
       "      <td>Skullcrusher</td>\n",
       "      <td>SZ1vwsxcWV</td>\n",
       "      <td>2019-07-16</td>\n",
       "      <td>fake_id_291</td>\n",
       "    </tr>\n",
       "  </tbody>\n",
       "</table>\n",
       "</div>"
      ],
      "text/plain": [
       "      singleSetId  weight  reps  distance  duration  elevationGain  setNumber  \\\n",
       "17238  VH0SyaUzK6    14.0   8.0       0.0       0.0            0.0          4   \n",
       "33529  VH0SyaUzK6    14.0   8.0       0.0       0.0            0.0          4   \n",
       "\n",
       "      exerciseSetParseId  exerciseName   workoutId workoutDate fake_user_id  \n",
       "17238         z7H89XkfTA  Skullcrusher  WK2u0Rvct6  2019-07-16  fake_id_291  \n",
       "33529         z7H89XkfTA  Skullcrusher  SZ1vwsxcWV  2019-07-16  fake_id_291  "
      ]
     },
     "execution_count": 25,
     "metadata": {},
     "output_type": "execute_result"
    }
   ],
   "source": [
    "dataset.loc[dataset.singleSetId == 'VH0SyaUzK6']"
   ]
  },
  {
   "cell_type": "markdown",
   "metadata": {},
   "source": [
    "## How often do different users work out?"
   ]
  },
  {
   "cell_type": "markdown",
   "metadata": {},
   "source": [
    "In general, users range from about 1 to 10 times (wow!) per week."
   ]
  },
  {
   "cell_type": "code",
   "execution_count": 62,
   "metadata": {},
   "outputs": [
    {
     "data": {
      "text/html": [
       "<div>\n",
       "<style scoped>\n",
       "    .dataframe tbody tr th:only-of-type {\n",
       "        vertical-align: middle;\n",
       "    }\n",
       "\n",
       "    .dataframe tbody tr th {\n",
       "        vertical-align: top;\n",
       "    }\n",
       "\n",
       "    .dataframe thead th {\n",
       "        text-align: right;\n",
       "    }\n",
       "</style>\n",
       "<table border=\"1\" class=\"dataframe\">\n",
       "  <thead>\n",
       "    <tr style=\"text-align: right;\">\n",
       "      <th></th>\n",
       "      <th>fake_user_id</th>\n",
       "      <th>total_count</th>\n",
       "    </tr>\n",
       "  </thead>\n",
       "  <tbody>\n",
       "    <tr>\n",
       "      <th>0</th>\n",
       "      <td>fake_id_280</td>\n",
       "      <td>167</td>\n",
       "    </tr>\n",
       "    <tr>\n",
       "      <th>1</th>\n",
       "      <td>fake_id_281</td>\n",
       "      <td>78</td>\n",
       "    </tr>\n",
       "    <tr>\n",
       "      <th>2</th>\n",
       "      <td>fake_id_282</td>\n",
       "      <td>6</td>\n",
       "    </tr>\n",
       "    <tr>\n",
       "      <th>3</th>\n",
       "      <td>fake_id_283</td>\n",
       "      <td>218</td>\n",
       "    </tr>\n",
       "    <tr>\n",
       "      <th>4</th>\n",
       "      <td>fake_id_284</td>\n",
       "      <td>124</td>\n",
       "    </tr>\n",
       "  </tbody>\n",
       "</table>\n",
       "</div>"
      ],
      "text/plain": [
       "  fake_user_id  total_count\n",
       "0  fake_id_280          167\n",
       "1  fake_id_281           78\n",
       "2  fake_id_282            6\n",
       "3  fake_id_283          218\n",
       "4  fake_id_284          124"
      ]
     },
     "execution_count": 62,
     "metadata": {},
     "output_type": "execute_result"
    }
   ],
   "source": [
    "workout_count_by_user = dataset.groupby(\"fake_user_id\").workoutId.unique().apply(len)\n",
    "workout_count_by_user.name = \"total_count\"\n",
    "workout_count_by_user = workout_count_by_user.reset_index()\n",
    "workout_count_by_user.head()"
   ]
  },
  {
   "cell_type": "code",
   "execution_count": 64,
   "metadata": {
    "scrolled": true
   },
   "outputs": [
    {
     "data": {
      "text/html": [
       "<div>\n",
       "<style scoped>\n",
       "    .dataframe tbody tr th:only-of-type {\n",
       "        vertical-align: middle;\n",
       "    }\n",
       "\n",
       "    .dataframe tbody tr th {\n",
       "        vertical-align: top;\n",
       "    }\n",
       "\n",
       "    .dataframe thead th {\n",
       "        text-align: right;\n",
       "    }\n",
       "</style>\n",
       "<table border=\"1\" class=\"dataframe\">\n",
       "  <thead>\n",
       "    <tr style=\"text-align: right;\">\n",
       "      <th></th>\n",
       "      <th>fake_user_id</th>\n",
       "      <th>total_count</th>\n",
       "      <th>days_on_fitbod</th>\n",
       "      <th>freq_per_week</th>\n",
       "    </tr>\n",
       "  </thead>\n",
       "  <tbody>\n",
       "    <tr>\n",
       "      <th>0</th>\n",
       "      <td>fake_id_280</td>\n",
       "      <td>167</td>\n",
       "      <td>274.0</td>\n",
       "      <td>4.266423</td>\n",
       "    </tr>\n",
       "    <tr>\n",
       "      <th>1</th>\n",
       "      <td>fake_id_281</td>\n",
       "      <td>78</td>\n",
       "      <td>106.0</td>\n",
       "      <td>5.150943</td>\n",
       "    </tr>\n",
       "    <tr>\n",
       "      <th>2</th>\n",
       "      <td>fake_id_282</td>\n",
       "      <td>6</td>\n",
       "      <td>5.0</td>\n",
       "      <td>8.400000</td>\n",
       "    </tr>\n",
       "    <tr>\n",
       "      <th>3</th>\n",
       "      <td>fake_id_283</td>\n",
       "      <td>218</td>\n",
       "      <td>443.0</td>\n",
       "      <td>3.444695</td>\n",
       "    </tr>\n",
       "    <tr>\n",
       "      <th>4</th>\n",
       "      <td>fake_id_284</td>\n",
       "      <td>124</td>\n",
       "      <td>364.0</td>\n",
       "      <td>2.384615</td>\n",
       "    </tr>\n",
       "  </tbody>\n",
       "</table>\n",
       "</div>"
      ],
      "text/plain": [
       "  fake_user_id  total_count  days_on_fitbod  freq_per_week\n",
       "0  fake_id_280          167           274.0       4.266423\n",
       "1  fake_id_281           78           106.0       5.150943\n",
       "2  fake_id_282            6             5.0       8.400000\n",
       "3  fake_id_283          218           443.0       3.444695\n",
       "4  fake_id_284          124           364.0       2.384615"
      ]
     },
     "execution_count": 64,
     "metadata": {},
     "output_type": "execute_result"
    }
   ],
   "source": [
    "workout_rate_by_user = workout_count_by_user.merge(timespan_by_user_df,\n",
    "                                                  on = 'fake_user_id',\n",
    "                                                  how = 'outer')\n",
    "workout_rate_by_user['freq_per_week'] = 7.0*workout_rate_by_user.total_count/workout_rate_by_user.days_on_fitbod\n",
    "workout_rate_by_user.head()"
   ]
  },
  {
   "cell_type": "code",
   "execution_count": 65,
   "metadata": {},
   "outputs": [
    {
     "data": {
      "image/png": "[encoded data removed]",
      "text/plain": [
       "<Figure size 432x288 with 1 Axes>"
      ]
     },
     "metadata": {
      "needs_background": "light"
     },
     "output_type": "display_data"
    }
   ],
   "source": [
    "plt.title(\"Distribution of workout frequencies across users\")\n",
    "plt.xlabel(\"Workouts per week\")\n",
    "workout_rate_hist = workout_rate_by_user.freq_per_week.hist()"
   ]
  },
  {
   "cell_type": "markdown",
   "metadata": {},
   "source": [
    "There is little correlation between how often users work out and how long they have been using Fitbod. Perhaps there is a slight drop off in workout frequency between new users vs people who have used the app for > 6 months. After that, the frequency is flat."
   ]
  },
  {
   "cell_type": "code",
   "execution_count": 69,
   "metadata": {},
   "outputs": [
    {
     "data": {
      "text/plain": [
       "<matplotlib.axes._subplots.AxesSubplot at 0x115a14c10>"
      ]
     },
     "execution_count": 69,
     "metadata": {},
     "output_type": "execute_result"
    },
    {
     "data": {
      "image/png": "[encoded data removed]",
      "text/plain": [
       "<Figure size 432x288 with 1 Axes>"
      ]
     },
     "metadata": {
      "needs_background": "light"
     },
     "output_type": "display_data"
    }
   ],
   "source": [
    "workout_rate_by_user.plot.scatter(x = \"days_on_fitbod\",\n",
    "                                  y = \"freq_per_week\",\n",
    "                                  title = \"Workout frequency vs time using Fitbod\")"
   ]
  },
  {
   "cell_type": "code",
   "execution_count": 71,
   "metadata": {},
   "outputs": [
    {
     "data": {
      "text/plain": [
       "-0.38525432518891645"
      ]
     },
     "execution_count": 71,
     "metadata": {},
     "output_type": "execute_result"
    }
   ],
   "source": [
    "workout_rate_by_user.corr()['days_on_fitbod']['freq_per_week']"
   ]
  },
  {
   "cell_type": "markdown",
   "metadata": {},
   "source": [
    "## Do short-term vs long-term users attempt different exercises?"
   ]
  },
  {
   "cell_type": "markdown",
   "metadata": {},
   "source": [
    "In general, users do a fairly wide range of exercises. No exercise makes up more than about 2% of sets."
   ]
  },
  {
   "cell_type": "code",
   "execution_count": 81,
   "metadata": {
    "scrolled": false
   },
   "outputs": [
    {
     "data": {
      "text/html": [
       "<div>\n",
       "<style scoped>\n",
       "    .dataframe tbody tr th:only-of-type {\n",
       "        vertical-align: middle;\n",
       "    }\n",
       "\n",
       "    .dataframe tbody tr th {\n",
       "        vertical-align: top;\n",
       "    }\n",
       "\n",
       "    .dataframe thead th {\n",
       "        text-align: right;\n",
       "    }\n",
       "</style>\n",
       "<table border=\"1\" class=\"dataframe\">\n",
       "  <thead>\n",
       "    <tr style=\"text-align: right;\">\n",
       "      <th>exerciseName</th>\n",
       "      <th>Back Squat</th>\n",
       "      <th>Barbell Bench Press</th>\n",
       "      <th>Push Up</th>\n",
       "      <th>Dumbbell Row</th>\n",
       "      <th>Lat Pulldown</th>\n",
       "      <th>Dumbbell Bench Press</th>\n",
       "      <th>Dumbbell Shoulder Press</th>\n",
       "      <th>Hammer Curls</th>\n",
       "      <th>Dumbbell Bicep Curl</th>\n",
       "      <th>Dumbbell Front Raise</th>\n",
       "      <th>...</th>\n",
       "      <th>Loop Band Shoulder Internal Rotation at 90°</th>\n",
       "      <th>Machine Overhead Press</th>\n",
       "      <th>Walking</th>\n",
       "      <th>Sled Push</th>\n",
       "      <th>Foam Roll Hip Abductors</th>\n",
       "      <th>Jog In Place</th>\n",
       "      <th>Jumping Jack</th>\n",
       "      <th>Plank Jack on Elbows</th>\n",
       "      <th>Machine Thigh Adductor</th>\n",
       "      <th>Foam Roll Quadriceps</th>\n",
       "    </tr>\n",
       "  </thead>\n",
       "  <tbody>\n",
       "    <tr>\n",
       "      <th>rate</th>\n",
       "      <td>0.0205951</td>\n",
       "      <td>0.0198362</td>\n",
       "      <td>0.0185016</td>\n",
       "      <td>0.0178735</td>\n",
       "      <td>0.0170884</td>\n",
       "      <td>0.0145762</td>\n",
       "      <td>0.0137649</td>\n",
       "      <td>0.0136079</td>\n",
       "      <td>0.0132677</td>\n",
       "      <td>0.0132154</td>\n",
       "      <td>...</td>\n",
       "      <td>5.23382e-05</td>\n",
       "      <td>2.61691e-05</td>\n",
       "      <td>2.61691e-05</td>\n",
       "      <td>2.61691e-05</td>\n",
       "      <td>2.61691e-05</td>\n",
       "      <td>2.61691e-05</td>\n",
       "      <td>2.61691e-05</td>\n",
       "      <td>2.61691e-05</td>\n",
       "      <td>2.61691e-05</td>\n",
       "      <td>2.61691e-05</td>\n",
       "    </tr>\n",
       "  </tbody>\n",
       "</table>\n",
       "<p>1 rows × 498 columns</p>\n",
       "</div>"
      ],
      "text/plain": [
       "exerciseName Back Squat Barbell Bench Press    Push Up Dumbbell Row  \\\n",
       "rate          0.0205951           0.0198362  0.0185016    0.0178735   \n",
       "\n",
       "exerciseName Lat Pulldown Dumbbell Bench Press Dumbbell Shoulder Press  \\\n",
       "rate            0.0170884            0.0145762               0.0137649   \n",
       "\n",
       "exerciseName Hammer Curls Dumbbell Bicep Curl Dumbbell Front Raise  ...  \\\n",
       "rate            0.0136079           0.0132677            0.0132154  ...   \n",
       "\n",
       "exerciseName Loop Band Shoulder Internal Rotation at 90°  \\\n",
       "rate                                         5.23382e-05   \n",
       "\n",
       "exerciseName Machine Overhead Press      Walking    Sled Push  \\\n",
       "rate                    2.61691e-05  2.61691e-05  2.61691e-05   \n",
       "\n",
       "exerciseName Foam Roll Hip Abductors Jog In Place Jumping Jack  \\\n",
       "rate                     2.61691e-05  2.61691e-05  2.61691e-05   \n",
       "\n",
       "exerciseName Plank Jack on Elbows Machine Thigh Adductor Foam Roll Quadriceps  \n",
       "rate                  2.61691e-05            2.61691e-05          2.61691e-05  \n",
       "\n",
       "[1 rows x 498 columns]"
      ]
     },
     "execution_count": 81,
     "metadata": {},
     "output_type": "execute_result"
    }
   ],
   "source": [
    "def get_exercise_rates(df):\n",
    "    \n",
    "    ## This function takes as input a dataframe with a row for each set and a column for exercise_name\n",
    "    ## It returns a dataframe with one row\n",
    "    ## Each column gives the proportion of sets for that exercise\n",
    "    \n",
    "    total_sets = len(df)\n",
    "    sets_by_exercise = df.groupby(\"exerciseName\").apply(len)\n",
    "    rate_df = sets_by_exercise/total_sets\n",
    "    rate_df.name = 'rate'\n",
    "    rate_df = rate_df.reset_index().transpose()\n",
    "    rate_df.columns = rate_df.iloc[0]\n",
    "    rate_df = rate_df.drop(['exerciseName'])\n",
    "    return rate_df\n",
    "\n",
    "overall_exercise_rates_df = get_exercise_rates(dataset)\n",
    "overall_exercise_rates_df.sort_values(by = 'rate', axis = 1, ascending = False)"
   ]
  },
  {
   "cell_type": "markdown",
   "metadata": {},
   "source": [
    "Short-term and long-term users do the same exercises.\n",
    "\n",
    "Below we focus on the 5 most popular exercises, and we regress days_on_fitbod on the rate at which users attempt each of these. None of the 5 exercises are statistically significant."
   ]
  },
  {
   "cell_type": "code",
   "execution_count": 75,
   "metadata": {
    "scrolled": true
   },
   "outputs": [
    {
     "data": {
      "text/html": [
       "<div>\n",
       "<style scoped>\n",
       "    .dataframe tbody tr th:only-of-type {\n",
       "        vertical-align: middle;\n",
       "    }\n",
       "\n",
       "    .dataframe tbody tr th {\n",
       "        vertical-align: top;\n",
       "    }\n",
       "\n",
       "    .dataframe thead th {\n",
       "        text-align: right;\n",
       "    }\n",
       "</style>\n",
       "<table border=\"1\" class=\"dataframe\">\n",
       "  <thead>\n",
       "    <tr style=\"text-align: right;\">\n",
       "      <th></th>\n",
       "      <th>fake_user_id</th>\n",
       "      <th>Ab Rollout</th>\n",
       "      <th>Arnold Dumbbell Press</th>\n",
       "      <th>Back Extensions</th>\n",
       "      <th>Back Squat</th>\n",
       "      <th>Barbell Bench Press</th>\n",
       "      <th>Barbell Curl</th>\n",
       "      <th>Barbell Decline Bench Press</th>\n",
       "      <th>Barbell Incline Bench Press</th>\n",
       "      <th>Barbell Lunge</th>\n",
       "      <th>...</th>\n",
       "      <th>Hang Power Clean</th>\n",
       "      <th>Push Jerk</th>\n",
       "      <th>TRX Fallout</th>\n",
       "      <th>Weighted Torture Twist</th>\n",
       "      <th>Jog In Place</th>\n",
       "      <th>Jumping Jack</th>\n",
       "      <th>Lateral Box Jump</th>\n",
       "      <th>Reverse Lunge</th>\n",
       "      <th>Swimming</th>\n",
       "      <th>TRX Jump Squats</th>\n",
       "    </tr>\n",
       "  </thead>\n",
       "  <tbody>\n",
       "    <tr>\n",
       "      <th>0</th>\n",
       "      <td>fake_id_280</td>\n",
       "      <td>0.000847</td>\n",
       "      <td>0.006351</td>\n",
       "      <td>0.016088</td>\n",
       "      <td>0.001270</td>\n",
       "      <td>0.006351</td>\n",
       "      <td>0.005504</td>\n",
       "      <td>0.005927</td>\n",
       "      <td>0.005927</td>\n",
       "      <td>0.001270</td>\n",
       "      <td>...</td>\n",
       "      <td>0.0</td>\n",
       "      <td>0.0</td>\n",
       "      <td>0.0</td>\n",
       "      <td>0.0</td>\n",
       "      <td>0.0</td>\n",
       "      <td>0.0</td>\n",
       "      <td>0.0</td>\n",
       "      <td>0.0</td>\n",
       "      <td>0.0</td>\n",
       "      <td>0.0</td>\n",
       "    </tr>\n",
       "    <tr>\n",
       "      <th>1</th>\n",
       "      <td>fake_id_281</td>\n",
       "      <td>0.000000</td>\n",
       "      <td>0.000000</td>\n",
       "      <td>0.000000</td>\n",
       "      <td>0.033065</td>\n",
       "      <td>0.000000</td>\n",
       "      <td>0.002296</td>\n",
       "      <td>0.000000</td>\n",
       "      <td>0.000000</td>\n",
       "      <td>0.000000</td>\n",
       "      <td>...</td>\n",
       "      <td>0.0</td>\n",
       "      <td>0.0</td>\n",
       "      <td>0.0</td>\n",
       "      <td>0.0</td>\n",
       "      <td>0.0</td>\n",
       "      <td>0.0</td>\n",
       "      <td>0.0</td>\n",
       "      <td>0.0</td>\n",
       "      <td>0.0</td>\n",
       "      <td>0.0</td>\n",
       "    </tr>\n",
       "    <tr>\n",
       "      <th>2</th>\n",
       "      <td>fake_id_282</td>\n",
       "      <td>0.000000</td>\n",
       "      <td>0.000000</td>\n",
       "      <td>0.000000</td>\n",
       "      <td>0.000000</td>\n",
       "      <td>0.000000</td>\n",
       "      <td>0.000000</td>\n",
       "      <td>0.000000</td>\n",
       "      <td>0.000000</td>\n",
       "      <td>0.000000</td>\n",
       "      <td>...</td>\n",
       "      <td>0.0</td>\n",
       "      <td>0.0</td>\n",
       "      <td>0.0</td>\n",
       "      <td>0.0</td>\n",
       "      <td>0.0</td>\n",
       "      <td>0.0</td>\n",
       "      <td>0.0</td>\n",
       "      <td>0.0</td>\n",
       "      <td>0.0</td>\n",
       "      <td>0.0</td>\n",
       "    </tr>\n",
       "    <tr>\n",
       "      <th>3</th>\n",
       "      <td>fake_id_283</td>\n",
       "      <td>0.000574</td>\n",
       "      <td>0.001723</td>\n",
       "      <td>0.000862</td>\n",
       "      <td>0.022401</td>\n",
       "      <td>0.046238</td>\n",
       "      <td>0.024411</td>\n",
       "      <td>0.002010</td>\n",
       "      <td>0.018093</td>\n",
       "      <td>0.001723</td>\n",
       "      <td>...</td>\n",
       "      <td>0.0</td>\n",
       "      <td>0.0</td>\n",
       "      <td>0.0</td>\n",
       "      <td>0.0</td>\n",
       "      <td>0.0</td>\n",
       "      <td>0.0</td>\n",
       "      <td>0.0</td>\n",
       "      <td>0.0</td>\n",
       "      <td>0.0</td>\n",
       "      <td>0.0</td>\n",
       "    </tr>\n",
       "    <tr>\n",
       "      <th>4</th>\n",
       "      <td>fake_id_284</td>\n",
       "      <td>0.000669</td>\n",
       "      <td>0.001339</td>\n",
       "      <td>0.016734</td>\n",
       "      <td>0.040161</td>\n",
       "      <td>0.040161</td>\n",
       "      <td>0.006024</td>\n",
       "      <td>0.000000</td>\n",
       "      <td>0.030790</td>\n",
       "      <td>0.000000</td>\n",
       "      <td>...</td>\n",
       "      <td>0.0</td>\n",
       "      <td>0.0</td>\n",
       "      <td>0.0</td>\n",
       "      <td>0.0</td>\n",
       "      <td>0.0</td>\n",
       "      <td>0.0</td>\n",
       "      <td>0.0</td>\n",
       "      <td>0.0</td>\n",
       "      <td>0.0</td>\n",
       "      <td>0.0</td>\n",
       "    </tr>\n",
       "  </tbody>\n",
       "</table>\n",
       "<p>5 rows × 499 columns</p>\n",
       "</div>"
      ],
      "text/plain": [
       "  fake_user_id  Ab Rollout  Arnold Dumbbell Press  Back Extensions  \\\n",
       "0  fake_id_280    0.000847               0.006351         0.016088   \n",
       "1  fake_id_281    0.000000               0.000000         0.000000   \n",
       "2  fake_id_282    0.000000               0.000000         0.000000   \n",
       "3  fake_id_283    0.000574               0.001723         0.000862   \n",
       "4  fake_id_284    0.000669               0.001339         0.016734   \n",
       "\n",
       "   Back Squat  Barbell Bench Press  Barbell Curl  Barbell Decline Bench Press  \\\n",
       "0    0.001270             0.006351      0.005504                     0.005927   \n",
       "1    0.033065             0.000000      0.002296                     0.000000   \n",
       "2    0.000000             0.000000      0.000000                     0.000000   \n",
       "3    0.022401             0.046238      0.024411                     0.002010   \n",
       "4    0.040161             0.040161      0.006024                     0.000000   \n",
       "\n",
       "   Barbell Incline Bench Press  Barbell Lunge  ...  Hang Power Clean  \\\n",
       "0                     0.005927       0.001270  ...               0.0   \n",
       "1                     0.000000       0.000000  ...               0.0   \n",
       "2                     0.000000       0.000000  ...               0.0   \n",
       "3                     0.018093       0.001723  ...               0.0   \n",
       "4                     0.030790       0.000000  ...               0.0   \n",
       "\n",
       "   Push Jerk  TRX Fallout  Weighted Torture Twist  Jog In Place  Jumping Jack  \\\n",
       "0        0.0          0.0                     0.0           0.0           0.0   \n",
       "1        0.0          0.0                     0.0           0.0           0.0   \n",
       "2        0.0          0.0                     0.0           0.0           0.0   \n",
       "3        0.0          0.0                     0.0           0.0           0.0   \n",
       "4        0.0          0.0                     0.0           0.0           0.0   \n",
       "\n",
       "   Lateral Box Jump  Reverse Lunge  Swimming  TRX Jump Squats  \n",
       "0               0.0            0.0       0.0              0.0  \n",
       "1               0.0            0.0       0.0              0.0  \n",
       "2               0.0            0.0       0.0              0.0  \n",
       "3               0.0            0.0       0.0              0.0  \n",
       "4               0.0            0.0       0.0              0.0  \n",
       "\n",
       "[5 rows x 499 columns]"
      ]
     },
     "execution_count": 75,
     "metadata": {},
     "output_type": "execute_result"
    }
   ],
   "source": [
    "exercise_rates_by_user_df = dataset.groupby(\"fake_user_id\").apply(get_exercise_rates)\n",
    "exercise_rates_by_user_df = exercise_rates_by_user_df.reset_index()\n",
    "exercise_rates_by_user_df = exercise_rates_by_user_df.drop('level_1', axis = 1)\n",
    "exercise_rates_by_user_df = exercise_rates_by_user_df.fillna(0)\n",
    "exercise_rates_by_user_df.head()"
   ]
  },
  {
   "cell_type": "code",
   "execution_count": 100,
   "metadata": {
    "scrolled": true
   },
   "outputs": [
    {
     "data": {
      "text/html": [
       "<div>\n",
       "<style scoped>\n",
       "    .dataframe tbody tr th:only-of-type {\n",
       "        vertical-align: middle;\n",
       "    }\n",
       "\n",
       "    .dataframe tbody tr th {\n",
       "        vertical-align: top;\n",
       "    }\n",
       "\n",
       "    .dataframe thead th {\n",
       "        text-align: right;\n",
       "    }\n",
       "</style>\n",
       "<table border=\"1\" class=\"dataframe\">\n",
       "  <thead>\n",
       "    <tr style=\"text-align: right;\">\n",
       "      <th></th>\n",
       "      <th>fake_user_id</th>\n",
       "      <th>Back Squat</th>\n",
       "      <th>Barbell Bench Press</th>\n",
       "      <th>Push Up</th>\n",
       "      <th>Dumbbell Row</th>\n",
       "      <th>Lat Pulldown</th>\n",
       "    </tr>\n",
       "  </thead>\n",
       "  <tbody>\n",
       "    <tr>\n",
       "      <th>0</th>\n",
       "      <td>fake_id_280</td>\n",
       "      <td>0.001270</td>\n",
       "      <td>0.006351</td>\n",
       "      <td>0.015241</td>\n",
       "      <td>0.020745</td>\n",
       "      <td>0.008891</td>\n",
       "    </tr>\n",
       "    <tr>\n",
       "      <th>1</th>\n",
       "      <td>fake_id_281</td>\n",
       "      <td>0.033065</td>\n",
       "      <td>0.000000</td>\n",
       "      <td>0.061998</td>\n",
       "      <td>0.033525</td>\n",
       "      <td>0.000000</td>\n",
       "    </tr>\n",
       "    <tr>\n",
       "      <th>2</th>\n",
       "      <td>fake_id_282</td>\n",
       "      <td>0.000000</td>\n",
       "      <td>0.000000</td>\n",
       "      <td>0.000000</td>\n",
       "      <td>0.054795</td>\n",
       "      <td>0.041096</td>\n",
       "    </tr>\n",
       "    <tr>\n",
       "      <th>3</th>\n",
       "      <td>fake_id_283</td>\n",
       "      <td>0.022401</td>\n",
       "      <td>0.046238</td>\n",
       "      <td>0.008616</td>\n",
       "      <td>0.020965</td>\n",
       "      <td>0.021827</td>\n",
       "    </tr>\n",
       "    <tr>\n",
       "      <th>4</th>\n",
       "      <td>fake_id_284</td>\n",
       "      <td>0.040161</td>\n",
       "      <td>0.040161</td>\n",
       "      <td>0.010710</td>\n",
       "      <td>0.020750</td>\n",
       "      <td>0.010040</td>\n",
       "    </tr>\n",
       "  </tbody>\n",
       "</table>\n",
       "</div>"
      ],
      "text/plain": [
       "  fake_user_id  Back Squat  Barbell Bench Press   Push Up  Dumbbell Row  \\\n",
       "0  fake_id_280    0.001270             0.006351  0.015241      0.020745   \n",
       "1  fake_id_281    0.033065             0.000000  0.061998      0.033525   \n",
       "2  fake_id_282    0.000000             0.000000  0.000000      0.054795   \n",
       "3  fake_id_283    0.022401             0.046238  0.008616      0.020965   \n",
       "4  fake_id_284    0.040161             0.040161  0.010710      0.020750   \n",
       "\n",
       "   Lat Pulldown  \n",
       "0      0.008891  \n",
       "1      0.000000  \n",
       "2      0.041096  \n",
       "3      0.021827  \n",
       "4      0.010040  "
      ]
     },
     "execution_count": 100,
     "metadata": {},
     "output_type": "execute_result"
    }
   ],
   "source": [
    "## Restrict to the 5 most popular exercises\n",
    "\n",
    "most_popular_exercises = overall_exercise_rates_df.sort_values(by = 'rate', axis = 1, ascending = False).columns.tolist()[:5]\n",
    "most_popular_exercises\n",
    "\n",
    "popular_exercise_rates_by_user_df = exercise_rates_by_user_df[['fake_user_id'] + most_popular_exercises]\n",
    "popular_exercise_rates_by_user_df.head()"
   ]
  },
  {
   "cell_type": "code",
   "execution_count": 101,
   "metadata": {},
   "outputs": [
    {
     "data": {
      "text/html": [
       "<table class=\"simpletable\">\n",
       "<caption>OLS Regression Results</caption>\n",
       "<tr>\n",
       "  <th>Dep. Variable:</th>     <td>days_on_fitbod</td>  <th>  R-squared:         </th> <td>   0.224</td>\n",
       "</tr>\n",
       "<tr>\n",
       "  <th>Model:</th>                   <td>OLS</td>       <th>  Adj. R-squared:    </th> <td>  -0.019</td>\n",
       "</tr>\n",
       "<tr>\n",
       "  <th>Method:</th>             <td>Least Squares</td>  <th>  F-statistic:       </th> <td>  0.9214</td>\n",
       "</tr>\n",
       "<tr>\n",
       "  <th>Date:</th>             <td>Fri, 15 Nov 2019</td> <th>  Prob (F-statistic):</th>  <td> 0.492</td> \n",
       "</tr>\n",
       "<tr>\n",
       "  <th>Time:</th>                 <td>16:45:38</td>     <th>  Log-Likelihood:    </th> <td> -142.93</td>\n",
       "</tr>\n",
       "<tr>\n",
       "  <th>No. Observations:</th>      <td>    22</td>      <th>  AIC:               </th> <td>   297.9</td>\n",
       "</tr>\n",
       "<tr>\n",
       "  <th>Df Residuals:</th>          <td>    16</td>      <th>  BIC:               </th> <td>   304.4</td>\n",
       "</tr>\n",
       "<tr>\n",
       "  <th>Df Model:</th>              <td>     5</td>      <th>                     </th>     <td> </td>   \n",
       "</tr>\n",
       "<tr>\n",
       "  <th>Covariance Type:</th>      <td>nonrobust</td>    <th>                     </th>     <td> </td>   \n",
       "</tr>\n",
       "</table>\n",
       "<table class=\"simpletable\">\n",
       "<tr>\n",
       "              <td></td>                <th>coef</th>     <th>std err</th>      <th>t</th>      <th>P>|t|</th>  <th>[0.025</th>    <th>0.975]</th>  \n",
       "</tr>\n",
       "<tr>\n",
       "  <th>Intercept</th>                <td>  245.8050</td> <td>   91.397</td> <td>    2.689</td> <td> 0.016</td> <td>   52.052</td> <td>  439.558</td>\n",
       "</tr>\n",
       "<tr>\n",
       "  <th>Q(\"Back Squat\")</th>          <td> 3071.1205</td> <td> 3656.424</td> <td>    0.840</td> <td> 0.413</td> <td>-4680.152</td> <td> 1.08e+04</td>\n",
       "</tr>\n",
       "<tr>\n",
       "  <th>Q(\"Barbell Bench Press\")</th> <td>-2066.4478</td> <td> 3138.561</td> <td>   -0.658</td> <td> 0.520</td> <td>-8719.900</td> <td> 4587.004</td>\n",
       "</tr>\n",
       "<tr>\n",
       "  <th>Q(\"Push Up\")</th>             <td>-1751.3413</td> <td> 2433.134</td> <td>   -0.720</td> <td> 0.482</td> <td>-6909.356</td> <td> 3406.673</td>\n",
       "</tr>\n",
       "<tr>\n",
       "  <th>Q(\"Dumbbell Row\")</th>        <td>-5435.1065</td> <td> 4104.762</td> <td>   -1.324</td> <td> 0.204</td> <td>-1.41e+04</td> <td> 3266.599</td>\n",
       "</tr>\n",
       "<tr>\n",
       "  <th>Q(\"Lat Pulldown\")</th>        <td> 5350.2171</td> <td> 3647.537</td> <td>    1.467</td> <td> 0.162</td> <td>-2382.217</td> <td> 1.31e+04</td>\n",
       "</tr>\n",
       "</table>\n",
       "<table class=\"simpletable\">\n",
       "<tr>\n",
       "  <th>Omnibus:</th>       <td> 1.165</td> <th>  Durbin-Watson:     </th> <td>   1.477</td>\n",
       "</tr>\n",
       "<tr>\n",
       "  <th>Prob(Omnibus):</th> <td> 0.558</td> <th>  Jarque-Bera (JB):  </th> <td>   1.058</td>\n",
       "</tr>\n",
       "<tr>\n",
       "  <th>Skew:</th>          <td> 0.382</td> <th>  Prob(JB):          </th> <td>   0.589</td>\n",
       "</tr>\n",
       "<tr>\n",
       "  <th>Kurtosis:</th>      <td> 2.245</td> <th>  Cond. No.          </th> <td>    129.</td>\n",
       "</tr>\n",
       "</table><br/><br/>Warnings:<br/>[1] Standard Errors assume that the covariance matrix of the errors is correctly specified."
      ],
      "text/plain": [
       "<class 'statsmodels.iolib.summary.Summary'>\n",
       "\"\"\"\n",
       "                            OLS Regression Results                            \n",
       "==============================================================================\n",
       "Dep. Variable:         days_on_fitbod   R-squared:                       0.224\n",
       "Model:                            OLS   Adj. R-squared:                 -0.019\n",
       "Method:                 Least Squares   F-statistic:                    0.9214\n",
       "Date:                Fri, 15 Nov 2019   Prob (F-statistic):              0.492\n",
       "Time:                        16:45:38   Log-Likelihood:                -142.93\n",
       "No. Observations:                  22   AIC:                             297.9\n",
       "Df Residuals:                      16   BIC:                             304.4\n",
       "Df Model:                           5                                         \n",
       "Covariance Type:            nonrobust                                         \n",
       "============================================================================================\n",
       "                               coef    std err          t      P>|t|      [0.025      0.975]\n",
       "--------------------------------------------------------------------------------------------\n",
       "Intercept                  245.8050     91.397      2.689      0.016      52.052     439.558\n",
       "Q(\"Back Squat\")           3071.1205   3656.424      0.840      0.413   -4680.152    1.08e+04\n",
       "Q(\"Barbell Bench Press\") -2066.4478   3138.561     -0.658      0.520   -8719.900    4587.004\n",
       "Q(\"Push Up\")             -1751.3413   2433.134     -0.720      0.482   -6909.356    3406.673\n",
       "Q(\"Dumbbell Row\")        -5435.1065   4104.762     -1.324      0.204   -1.41e+04    3266.599\n",
       "Q(\"Lat Pulldown\")         5350.2171   3647.537      1.467      0.162   -2382.217    1.31e+04\n",
       "==============================================================================\n",
       "Omnibus:                        1.165   Durbin-Watson:                   1.477\n",
       "Prob(Omnibus):                  0.558   Jarque-Bera (JB):                1.058\n",
       "Skew:                           0.382   Prob(JB):                        0.589\n",
       "Kurtosis:                       2.245   Cond. No.                         129.\n",
       "==============================================================================\n",
       "\n",
       "Warnings:\n",
       "[1] Standard Errors assume that the covariance matrix of the errors is correctly specified.\n",
       "\"\"\""
      ]
     },
     "execution_count": 101,
     "metadata": {},
     "output_type": "execute_result"
    }
   ],
   "source": [
    "regression_df = popular_exercise_rates_by_user_df.merge(timespan_by_user_df,\n",
    "                                                                     on = 'fake_user_id',\n",
    "                                                                     how = 'outer')\n",
    "\n",
    "## Get the formula for the regression\n",
    "## Patsy lets us handle column names with spaces by using 'Q()'\n",
    "formula = 'days_on_fitbod ~ 1'\n",
    "for exercise in most_popular_exercises:\n",
    "    formula = formula + ' + Q(\"' + exercise + '\")'\n",
    "    \n",
    "## Fit linear model\n",
    "response, predictors = dmatrices(formula, regression_df)\n",
    "model = sm.OLS(\n",
    "    endog = response,\n",
    "    exog = predictors).fit()\n",
    "model.summary()\n",
    "\n",
    "## In the summary, P>|t| gives the p-value for each exercise\n",
    "## None of the p-values are significant at all"
   ]
  },
  {
   "cell_type": "markdown",
   "metadata": {},
   "source": [
    "## Conclusion"
   ]
  },
  {
   "cell_type": "markdown",
   "metadata": {},
   "source": [
    "We did not find strong differences between short and long-term users.\n",
    "\n",
    "This could be due to the small number of users in our dataset. With more users, we could regress days_on_fitbod on all exercises (not just the top 5), which might produce a stronger signal. Similarly, we could consider non-linear associations between days_on_fitbod and workout frequency, and investigate a possible 6 month drop off point in more detail.\n",
    "\n",
    "Even with these 22 users, there are columns in the dataset that I did not take advantage of. While all users are attempting the same exercises, perhaps we would find that long-term users hit more volume in each workout. This dataset also has interesting longitudinal data. We could examine how the workout frequency of each user develops over time, and how that connects with improvements in how much they can lift."
   ]
  }
 ],
 "metadata": {
  "kernelspec": {
   "display_name": "Python 3",
   "language": "python",
   "name": "python3"
  },
  "language_info": {
   "codemirror_mode": {
    "name": "ipython",
    "version": 3
   },
   "file_extension": ".py",
   "mimetype": "text/x-python",
   "name": "python",
   "nbconvert_exporter": "python",
   "pygments_lexer": "ipython3",
   "version": "3.8.0"
  }
 },
 "nbformat": 4,
 "nbformat_minor": 2
}
